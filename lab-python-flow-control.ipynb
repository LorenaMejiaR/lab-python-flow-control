{
 "cells": [
  {
   "cell_type": "markdown",
   "id": "d3bfc191-8885-42ee-b0a0-bbab867c6f9f",
   "metadata": {
    "tags": []
   },
   "source": [
    "# Lab | Flow Control"
   ]
  },
  {
   "cell_type": "markdown",
   "id": "3851fcd1-cf98-4653-9c89-e003b7ec9400",
   "metadata": {},
   "source": [
    "## Exercise: Managing Customer Orders Optimized\n",
    "\n",
    "In the last lab, you were starting an online store that sells various products. To ensure smooth operations, you developed a program that manages customer orders and inventory.\n",
    "\n",
    "You did so without using flow control. Let's go a step further and improve this code.\n",
    "\n",
    "Follow the steps below to complete the exercise:\n",
    "\n",
    "1. Look at your code from the lab data structures, and improve repeated code with loops.\n",
    "\n",
    "2. Instead of asking the user to input the name of three products that a customer wants to order, do the following:\n",
    "    \n",
    "    a. Prompt the user to enter the name of a product that a customer wants to order.\n",
    "    \n",
    "    b. Add the product name to the \"customer_orders\" set.\n",
    "    \n",
    "    c. Ask the user if they want to add another product (yes/no).\n",
    "    \n",
    "    d. Continue the loop until the user does not want to add another product.\n",
    "\n",
    "3. Instead of updating the inventory by subtracting 1 from the quantity of each product, only do it for  the products that were ordered (those in \"customer_orders\")."
   ]
  },
  {
   "cell_type": "code",
   "execution_count": 30,
   "id": "b3f0df77-868c-43db-a192-79c57dc4dcbe",
   "metadata": {},
   "outputs": [
    {
     "name": "stdin",
     "output_type": "stream",
     "text": [
      "Please enter the quantity of t-shirt:  10\n",
      "Please enter the quantity of mug:  10\n",
      "Please enter the quantity of hat:  10\n",
      "Please enter the quantity of book:  10\n",
      "Please enter the quantity of keychain:  10\n"
     ]
    },
    {
     "data": {
      "text/plain": [
       "{'t-shirt': 10, 'mug': 10, 'hat': 10, 'book': 10, 'keychain': 10}"
      ]
     },
     "execution_count": 30,
     "metadata": {},
     "output_type": "execute_result"
    }
   ],
   "source": [
    "#1.\n",
    "products = [\"t-shirt\", \"mug\", \"hat\", \"book\", \"keychain\"]\n",
    "inventory ={}\n",
    "for product in products:\n",
    "    quantity = int(input(f\"Please enter the quantity of {product}: \"))\n",
    "    inventory[product] = quantity\n",
    "\n",
    "inventory"
   ]
  },
  {
   "cell_type": "code",
   "execution_count": 32,
   "id": "1d8d7ea6-c7e9-42ef-b7ae-1294b4f28dbe",
   "metadata": {},
   "outputs": [
    {
     "name": "stdin",
     "output_type": "stream",
     "text": [
      "Please enter the name of the product you want to order: mug\n",
      "Do you want to add anotother product to your order? (yes/no):  yes\n",
      "Please enter the name of the product you want to order: book\n",
      "Do you want to add anotother product to your order? (yes/no):  yes\n",
      "Please enter the name of the product you want to order: notebook\n",
      "Do you want to add anotother product to your order? (yes/no):  no\n"
     ]
    },
    {
     "name": "stdout",
     "output_type": "stream",
     "text": [
      "{'notebook', 'mug', 'book'}\n"
     ]
    }
   ],
   "source": [
    "#2\n",
    "\n",
    "customer_orders=set()\n",
    "while True: \n",
    "    product=input(\"Please enter the name of the product you want to order:\")\n",
    "    customer_orders.add(product)\n",
    "    another_product= input(\"Do you want to add anotother product to your order? (yes/no): \")\n",
    "    if another_product != \"yes\":\n",
    "        break \n",
    "    \n",
    "print(customer_orders)"
   ]
  },
  {
   "cell_type": "code",
   "execution_count": 34,
   "id": "fe9fa9bb-cb62-4ebf-8133-db9445e7ea09",
   "metadata": {},
   "outputs": [
    {
     "name": "stdout",
     "output_type": "stream",
     "text": [
      "Product notebook is not found in inventory.\n",
      "Updated inventory for mug: 9\n",
      "Updated inventory for book: 9\n",
      "Final inventory: {'t-shirt': 10, 'mug': 9, 'hat': 10, 'book': 9, 'keychain': 10}\n"
     ]
    }
   ],
   "source": [
    "#3. \n",
    "for product in customer_orders:\n",
    "    if product in inventory and inventory[product]>0:\n",
    "        inventory[product] -=1\n",
    "        print(f\"Updated inventory for {product}: {inventory[product]}\")\n",
    "    else:\n",
    "        print(f\"Product {product} is not found in inventory.\")\n",
    "print(\"Final inventory:\", inventory)"
   ]
  },
  {
   "cell_type": "code",
   "execution_count": null,
   "id": "e57055d3-78e5-4060-b538-e0e160047c52",
   "metadata": {},
   "outputs": [],
   "source": []
  }
 ],
 "metadata": {
  "kernelspec": {
   "display_name": "Python 3 (ipykernel)",
   "language": "python",
   "name": "python3"
  },
  "language_info": {
   "codemirror_mode": {
    "name": "ipython",
    "version": 3
   },
   "file_extension": ".py",
   "mimetype": "text/x-python",
   "name": "python",
   "nbconvert_exporter": "python",
   "pygments_lexer": "ipython3",
   "version": "3.12.4"
  }
 },
 "nbformat": 4,
 "nbformat_minor": 5
}
